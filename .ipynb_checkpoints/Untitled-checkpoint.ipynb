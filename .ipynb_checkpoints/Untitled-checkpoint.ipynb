{
 "cells": [
  {
   "cell_type": "code",
   "execution_count": 3,
   "id": "c6ab82fa-d1ff-4f9b-aaba-0883b6ff7f42",
   "metadata": {},
   "outputs": [
    {
     "name": "stdout",
     "output_type": "stream",
     "text": [
      "['directory: kuwait\\n', 'top: 32.93492866908233\\n', 'left: 36.91406250000001\\n', 'bottom: 21.22794190505816\\n', 'right: 54.44824218750001\\n', 'zoom start: 3\\n', 'zoom end: 6\\n', 'center lat: 27.081435287070246\\n', 'center lng: 45.68115234375001\\n', 'Date downloaded: 2024-05-03 15:50:40.574371']\n"
     ]
    }
   ],
   "source": [
    "with open(\"tst.txt\", \"r\") as file:\n",
    "    lines = file.readlines()\n",
    "    print(lines)"
   ]
  },
  {
   "cell_type": "code",
   "execution_count": 5,
   "id": "8aa45807-97d7-4f8b-87eb-a710a54351bc",
   "metadata": {},
   "outputs": [],
   "source": [
    "import re\n",
    "def modify(filepath, from_, to_):\n",
    "    file = open(filepath,\"r+\")\n",
    "    text = file.read()\n",
    "    pattern = from_\n",
    "    splitted_text = re.split(pattern,text)\n",
    "    modified_text = to_.join(splitted_text)\n",
    "    with open(filepath, 'w') as file:\n",
    "        file.write(modified_text)"
   ]
  },
  {
   "cell_type": "code",
   "execution_count": null,
   "id": "0b4bb61b-5204-48fc-a358-1bdbcdc2651f",
   "metadata": {},
   "outputs": [],
   "source": [
    "modify(\"tst.txt\",\"Zoom start:\",\"Zoom start: 12\")"
   ]
  }
 ],
 "metadata": {
  "kernelspec": {
   "display_name": "Python 3 (ipykernel)",
   "language": "python",
   "name": "python3"
  },
  "language_info": {
   "codemirror_mode": {
    "name": "ipython",
    "version": 3
   },
   "file_extension": ".py",
   "mimetype": "text/x-python",
   "name": "python",
   "nbconvert_exporter": "python",
   "pygments_lexer": "ipython3",
   "version": "3.8.10"
  }
 },
 "nbformat": 4,
 "nbformat_minor": 5
}
